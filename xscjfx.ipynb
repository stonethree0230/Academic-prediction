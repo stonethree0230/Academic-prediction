{
 "cells": [
  {
   "cell_type": "markdown",
   "metadata": {
    "deletable": true,
    "editable": true
   },
   "source": [
    "# 学生生源地、高考成绩对大学成绩的影响分析\n"
   ]
  },
  {
   "cell_type": "code",
   "execution_count": 1,
   "metadata": {
    "collapsed": false,
    "deletable": true,
    "editable": true
   },
   "outputs": [],
   "source": [
    "#设定字符编码\n",
    "import sys\n",
    "stdout=sys.stdout\n",
    "reload(sys)\n",
    "sys.setdefaultencoding( \"utf-8\")\n",
    "sys.stdout=stdout"
   ]
  },
  {
   "cell_type": "markdown",
   "metadata": {
    "deletable": true,
    "editable": true
   },
   "source": [
    "读取学生的有关信息"
   ]
  },
  {
   "cell_type": "code",
   "execution_count": 2,
   "metadata": {
    "collapsed": false,
    "deletable": true,
    "editable": true,
    "scrolled": false
   },
   "outputs": [],
   "source": [
    "import numpy as np\n",
    "import pandas as pd\n",
    "import matplotlib.pyplot as plt\n",
    "plt.rcParams['font.sans-serif']=['SimHei']\n",
    "plt.rcParams['axes.unicode_minus']=False\n",
    "%matplotlib inline\n",
    "\n",
    "\n",
    "#导入数据\n",
    "filename=\"data/xsxx2016.xlsx\"\n",
    "data=pd.read_excel(filename) #导入数据,index_col=u'学号"
   ]
  },
  {
   "cell_type": "code",
   "execution_count": 3,
   "metadata": {
    "collapsed": false,
    "deletable": true,
    "editable": true
   },
   "outputs": [
    {
     "data": {
      "text/html": [
       "<div>\n",
       "<table border=\"1\" class=\"dataframe\">\n",
       "  <thead>\n",
       "    <tr style=\"text-align: right;\">\n",
       "      <th></th>\n",
       "      <th>年级</th>\n",
       "      <th>专业</th>\n",
       "      <th>班级</th>\n",
       "      <th>院(系)/部</th>\n",
       "      <th>身份证号</th>\n",
       "      <th>学号</th>\n",
       "      <th>姓名</th>\n",
       "      <th>性别</th>\n",
       "      <th>出生日期</th>\n",
       "      <th>民族</th>\n",
       "      <th>生源省份</th>\n",
       "      <th>毕业中学</th>\n",
       "      <th>毕业类别</th>\n",
       "      <th>生源地区</th>\n",
       "      <th>入学成绩</th>\n",
       "      <th>考生类别</th>\n",
       "      <th>未通过课程环节数</th>\n",
       "      <th>平均成绩</th>\n",
       "    </tr>\n",
       "  </thead>\n",
       "  <tbody>\n",
       "    <tr>\n",
       "      <th>0</th>\n",
       "      <td>2016</td>\n",
       "      <td>机械设计与制造</td>\n",
       "      <td>16114</td>\n",
       "      <td>机械工程学院</td>\n",
       "      <td>421182199608204715</td>\n",
       "      <td>201401010238</td>\n",
       "      <td>汤乐</td>\n",
       "      <td>男</td>\n",
       "      <td>19960820</td>\n",
       "      <td>汉族</td>\n",
       "      <td>湖北省</td>\n",
       "      <td>武穴市育才高级中学</td>\n",
       "      <td>0</td>\n",
       "      <td>湖北省武穴市</td>\n",
       "      <td>449.00</td>\n",
       "      <td>农村应届</td>\n",
       "      <td>0</td>\n",
       "      <td>80.45</td>\n",
       "    </tr>\n",
       "    <tr>\n",
       "      <th>1</th>\n",
       "      <td>2016</td>\n",
       "      <td>机械设计与制造</td>\n",
       "      <td>16114</td>\n",
       "      <td>机械工程学院</td>\n",
       "      <td>420581199507081239</td>\n",
       "      <td>201401010411</td>\n",
       "      <td>陈磊</td>\n",
       "      <td>男</td>\n",
       "      <td>19950708</td>\n",
       "      <td>汉族</td>\n",
       "      <td>湖北省</td>\n",
       "      <td>湖北省宜都市第二中学</td>\n",
       "      <td>0</td>\n",
       "      <td>湖北省宜都市</td>\n",
       "      <td>329.00</td>\n",
       "      <td>农村应届</td>\n",
       "      <td>0</td>\n",
       "      <td>80.82</td>\n",
       "    </tr>\n",
       "    <tr>\n",
       "      <th>2</th>\n",
       "      <td>2016</td>\n",
       "      <td>机械设计与制造</td>\n",
       "      <td>16114</td>\n",
       "      <td>机械工程学院</td>\n",
       "      <td>422202199810146517</td>\n",
       "      <td>201601010109</td>\n",
       "      <td>张政</td>\n",
       "      <td>男</td>\n",
       "      <td>19981014</td>\n",
       "      <td>汉族</td>\n",
       "      <td>湖北省</td>\n",
       "      <td>应城市第一高级中学</td>\n",
       "      <td>NaN</td>\n",
       "      <td>湖北省应城市</td>\n",
       "      <td>340.10</td>\n",
       "      <td>农村应届</td>\n",
       "      <td>2</td>\n",
       "      <td>64.00</td>\n",
       "    </tr>\n",
       "    <tr>\n",
       "      <th>3</th>\n",
       "      <td>2016</td>\n",
       "      <td>机械设计与制造</td>\n",
       "      <td>16114</td>\n",
       "      <td>机械工程学院</td>\n",
       "      <td>42092119971222461X</td>\n",
       "      <td>201601010401</td>\n",
       "      <td>米宏超</td>\n",
       "      <td>男</td>\n",
       "      <td>19971222</td>\n",
       "      <td>汉族</td>\n",
       "      <td>NaN</td>\n",
       "      <td>锡盟技工学校</td>\n",
       "      <td>职业高中</td>\n",
       "      <td>NaN</td>\n",
       "      <td>242.00</td>\n",
       "      <td>农村应届</td>\n",
       "      <td>2</td>\n",
       "      <td>74.00</td>\n",
       "    </tr>\n",
       "    <tr>\n",
       "      <th>4</th>\n",
       "      <td>2016</td>\n",
       "      <td>机械设计与制造</td>\n",
       "      <td>16114</td>\n",
       "      <td>机械工程学院</td>\n",
       "      <td>513723199504189692</td>\n",
       "      <td>201601010402</td>\n",
       "      <td>张磊</td>\n",
       "      <td>男</td>\n",
       "      <td>19950418</td>\n",
       "      <td>汉族</td>\n",
       "      <td>四川省</td>\n",
       "      <td>大竹中学</td>\n",
       "      <td>NaN</td>\n",
       "      <td>NaN</td>\n",
       "      <td>431.06</td>\n",
       "      <td>农村往届</td>\n",
       "      <td>0</td>\n",
       "      <td>78.91</td>\n",
       "    </tr>\n",
       "  </tbody>\n",
       "</table>\n",
       "</div>"
      ],
      "text/plain": [
       "     年级       专业     班级  院(系)/部                身份证号            学号   姓名 性别  \\\n",
       "0  2016  机械设计与制造  16114  机械工程学院  421182199608204715  201401010238   汤乐  男   \n",
       "1  2016  机械设计与制造  16114  机械工程学院  420581199507081239  201401010411   陈磊  男   \n",
       "2  2016  机械设计与制造  16114  机械工程学院  422202199810146517  201601010109   张政  男   \n",
       "3  2016  机械设计与制造  16114  机械工程学院  42092119971222461X  201601010401  米宏超  男   \n",
       "4  2016  机械设计与制造  16114  机械工程学院  513723199504189692  201601010402   张磊  男   \n",
       "\n",
       "       出生日期  民族 生源省份        毕业中学  毕业类别    生源地区    入学成绩  考生类别  未通过课程环节数   平均成绩  \n",
       "0  19960820  汉族  湖北省   武穴市育才高级中学     0  湖北省武穴市  449.00  农村应届         0  80.45  \n",
       "1  19950708  汉族  湖北省  湖北省宜都市第二中学     0  湖北省宜都市  329.00  农村应届         0  80.82  \n",
       "2  19981014  汉族  湖北省   应城市第一高级中学   NaN  湖北省应城市  340.10  农村应届         2  64.00  \n",
       "3  19971222  汉族  NaN      锡盟技工学校  职业高中     NaN  242.00  农村应届         2  74.00  \n",
       "4  19950418  汉族  四川省        大竹中学   NaN     NaN  431.06  农村往届         0  78.91  "
      ]
     },
     "execution_count": 3,
     "metadata": {},
     "output_type": "execute_result"
    }
   ],
   "source": [
    "data.head()"
   ]
  },
  {
   "cell_type": "markdown",
   "metadata": {
    "collapsed": true,
    "deletable": true,
    "editable": true
   },
   "source": [
    "## 1.高考成绩与大学成绩的相关性分析"
   ]
  },
  {
   "cell_type": "markdown",
   "metadata": {
    "deletable": true,
    "editable": true
   },
   "source": [
    "部分学生的高考成绩为0，单招、技能高考、普通高考学生的总分可能不一样，应该分别分析；需分析清楚不同省份的高考成绩总分是否一致"
   ]
  },
  {
   "cell_type": "code",
   "execution_count": 4,
   "metadata": {
    "collapsed": false,
    "deletable": true,
    "editable": true
   },
   "outputs": [
    {
     "name": "stdout",
     "output_type": "stream",
     "text": [
      "              入学成绩         平均成绩\n",
      "count  4477.000000  4477.000000\n",
      "mean    313.929692    77.119596\n",
      "std     144.651073     8.204194\n",
      "min       0.000000    11.880000\n",
      "25%     279.840000    73.670000\n",
      "50%     331.100000    78.900000\n",
      "75%     372.100000    82.450000\n",
      "max     627.000000    93.670000\n"
     ]
    },
    {
     "data": {
      "image/png": "[encoded data removed]",
      "text/plain": [
       "<matplotlib.figure.Figure at 0xce63828>"
      ]
     },
     "metadata": {},
     "output_type": "display_data"
    }
   ],
   "source": [
    "\n",
    "data_rx=data[[u'入学成绩',u'平均成绩']]\n",
    "data_rx=data_rx.dropna()\n",
    "p=data_rx.describe()\n",
    "print(p)\n",
    "\n",
    "plt.figure()\n",
    "pp=data_rx.boxplot(return_type='dict')\n",
    "x=pp['fliers'][0].get_xdata()\n",
    "y=pp['fliers'][0].get_ydata()\n",
    "\n"
   ]
  },
  {
   "cell_type": "markdown",
   "metadata": {
    "deletable": true,
    "editable": true
   },
   "source": [
    "## 2.考生生源地与大学成绩的相关性分析"
   ]
  },
  {
   "cell_type": "markdown",
   "metadata": {
    "deletable": true,
    "editable": true
   },
   "source": [
    "分析不同省份的生源对在校学习情况有没有显著不同，应使用方差分析进行验证"
   ]
  },
  {
   "cell_type": "code",
   "execution_count": 5,
   "metadata": {
    "collapsed": false,
    "deletable": true,
    "editable": true
   },
   "outputs": [
    {
     "name": "stdout",
     "output_type": "stream",
     "text": [
      "              平均成绩\n",
      "生源省份              \n",
      "云南省      76.910435\n",
      "内蒙古自治区   73.383333\n",
      "吉林省      71.114545\n",
      "四川省      81.651250\n",
      "安徽省      78.385455\n",
      "山东省      78.380571\n",
      "山西省      76.466620\n",
      "广东省      81.692143\n",
      "广西壮族自治区  76.368750\n",
      "江苏省      82.450000\n",
      "江西省      82.302812\n",
      "河北省      74.308571\n",
      "河南省      78.439302\n",
      "浙江省      80.768667\n",
      "海南省      67.437778\n",
      "湖北省      77.014383\n",
      "湖南省      76.688704\n",
      "甘肃省      77.391468\n",
      "福建省      77.440000\n",
      "贵州省      77.922500\n",
      "辽宁省      78.248824\n",
      "重庆市      79.697143\n",
      "陕西省      77.469286\n",
      "黑龙江省     74.524400\n"
     ]
    },
    {
     "data": {
      "text/plain": [
       "<matplotlib.axes._subplots.AxesSubplot at 0xce70a58>"
      ]
     },
     "execution_count": 5,
     "metadata": {},
     "output_type": "execute_result"
    },
    {
     "data": {
      "image/png": "[encoded data removed]",
      "text/plain": [
       "<matplotlib.figure.Figure at 0xd431978>"
      ]
     },
     "metadata": {},
     "output_type": "display_data"
    }
   ],
   "source": [
    "data2=data.copy()\n",
    "data2=data2.loc[:,[u'生源省份',u'平均成绩']].dropna()\n",
    "avdata2=data2.groupby(data2[u'生源省份']).mean()\n",
    "print(avdata2)\n",
    "\n",
    "avdata2.plot(kind='bar')"
   ]
  },
  {
   "cell_type": "markdown",
   "metadata": {
    "deletable": true,
    "editable": true
   },
   "source": [
    "## 3.考生的家庭（农村、城镇）对大学成绩的相关性分析"
   ]
  },
  {
   "cell_type": "markdown",
   "metadata": {
    "deletable": true,
    "editable": true
   },
   "source": [
    "分析农村入学、城镇入学的学生，到校后的学习情况有没有显著性差异"
   ]
  },
  {
   "cell_type": "code",
   "execution_count": 6,
   "metadata": {
    "collapsed": false,
    "deletable": true,
    "editable": true
   },
   "outputs": [
    {
     "name": "stdout",
     "output_type": "stream",
     "text": [
      "      平均成绩\n",
      "考生类别      \n",
      "农村应届  2874\n",
      "农村往届   142\n",
      "城镇应届  1364\n",
      "城镇往届    95\n",
      "           平均成绩\n",
      "考生类别           \n",
      "农村应届  77.812857\n",
      "农村往届  78.916056\n",
      "城镇应届  75.489890\n",
      "城镇往届  76.906421\n"
     ]
    },
    {
     "data": {
      "text/plain": [
       "<matplotlib.axes._subplots.AxesSubplot at 0xd8e7390>"
      ]
     },
     "execution_count": 6,
     "metadata": {},
     "output_type": "execute_result"
    },
    {
     "data": {
      "image/png": "[encoded data removed]",
      "text/plain": [
       "<matplotlib.figure.Figure at 0xd933668>"
      ]
     },
     "metadata": {},
     "output_type": "display_data"
    }
   ],
   "source": [
    "data_sh=data[[u'考生类别',u'平均成绩']].copy()\n",
    "data_sh=data_sh.dropna()\n",
    "avdata_sh=data_sh.groupby(data_sh[u'考生类别']).mean()\n",
    "codata_sh=data_sh.groupby(data_sh[u'考生类别']).count()\n",
    "print codata_sh\n",
    "print avdata_sh\n",
    "avdata_sh.plot(kind='bar')\n"
   ]
  },
  {
   "cell_type": "markdown",
   "metadata": {
    "deletable": true,
    "editable": true
   },
   "source": [
    "## 学生学业预测"
   ]
  },
  {
   "cell_type": "markdown",
   "metadata": {
    "deletable": true,
    "editable": true
   },
   "source": [
    "根据学生的专业、生源省份、考生类别、生活环境、入学成绩等因素使用决策树、随机森林算法进行数据挖掘，对学生的学业情况进行预测。"
   ]
  },
  {
   "cell_type": "code",
   "execution_count": 7,
   "metadata": {
    "collapsed": false,
    "deletable": true,
    "editable": true
   },
   "outputs": [
    {
     "ename": "SyntaxError",
     "evalue": "invalid syntax (<ipython-input-7-3bd387a5a5ef>, line 1)",
     "output_type": "error",
     "traceback": [
      "\u001b[1;36m  File \u001b[1;32m\"<ipython-input-7-3bd387a5a5ef>\"\u001b[1;36m, line \u001b[1;32m1\u001b[0m\n\u001b[1;33m    data_xy=data[[u'专业',u'生源省份',u'毕业类别',u'入学成绩'，u'考生类别',u'平均成绩']]\u001b[0m\n\u001b[1;37m                                                                 \n^\u001b[0m\n\u001b[1;31mSyntaxError\u001b[0m\u001b[1;31m:\u001b[0m invalid syntax\n"
     ]
    }
   ],
   "source": [
    "data_xy=data[[u'专业',u'生源省份',u'毕业类别',u'入学成绩'，u'考生类别',u'平均成绩']]\n",
    "data_xy=data_xy.dropna()\n"
   ]
  },
  {
   "cell_type": "code",
   "execution_count": null,
   "metadata": {
    "collapsed": false,
    "deletable": true,
    "editable": true
   },
   "outputs": [],
   "source": [
    "%debug\n"
   ]
  }
 ],
 "metadata": {
  "kernelspec": {
   "display_name": "Python 2",
   "language": "python",
   "name": "python2"
  },
  "language_info": {
   "codemirror_mode": {
    "name": "ipython",
    "version": 2
   },
   "file_extension": ".py",
   "mimetype": "text/x-python",
   "name": "python",
   "nbconvert_exporter": "python",
   "pygments_lexer": "ipython2",
   "version": "2.7.11"
  }
 },
 "nbformat": 4,
 "nbformat_minor": 2
}
